{
 "cells": [
  {
   "cell_type": "code",
   "execution_count": 99,
   "id": "fa91e4c1-c651-435c-8946-f2b27f8c81d9",
   "metadata": {},
   "outputs": [],
   "source": [
    "import pandas as pd\n",
    "import numpy as np\n",
    "import seaborn as sns\n",
    "import matplotlib.pyplot as plt\n",
    "from scipy import stats"
   ]
  },
  {
   "cell_type": "code",
   "execution_count": 101,
   "id": "a8add65d-e27e-4ada-a22f-222156ac3b2e",
   "metadata": {
    "scrolled": true
   },
   "outputs": [
    {
     "data": {
      "text/html": [
       "<div>\n",
       "<style scoped>\n",
       "    .dataframe tbody tr th:only-of-type {\n",
       "        vertical-align: middle;\n",
       "    }\n",
       "\n",
       "    .dataframe tbody tr th {\n",
       "        vertical-align: top;\n",
       "    }\n",
       "\n",
       "    .dataframe thead th {\n",
       "        text-align: right;\n",
       "    }\n",
       "</style>\n",
       "<table border=\"1\" class=\"dataframe\">\n",
       "  <thead>\n",
       "    <tr style=\"text-align: right;\">\n",
       "      <th></th>\n",
       "      <th>Company</th>\n",
       "      <th>Age</th>\n",
       "      <th>Salary</th>\n",
       "      <th>Place</th>\n",
       "      <th>Country</th>\n",
       "      <th>Gender</th>\n",
       "    </tr>\n",
       "  </thead>\n",
       "  <tbody>\n",
       "    <tr>\n",
       "      <th>0</th>\n",
       "      <td>TCS</td>\n",
       "      <td>20.0</td>\n",
       "      <td>NaN</td>\n",
       "      <td>Chennai</td>\n",
       "      <td>India</td>\n",
       "      <td>0</td>\n",
       "    </tr>\n",
       "    <tr>\n",
       "      <th>1</th>\n",
       "      <td>Infosys</td>\n",
       "      <td>30.0</td>\n",
       "      <td>NaN</td>\n",
       "      <td>Mumbai</td>\n",
       "      <td>India</td>\n",
       "      <td>0</td>\n",
       "    </tr>\n",
       "    <tr>\n",
       "      <th>2</th>\n",
       "      <td>TCS</td>\n",
       "      <td>35.0</td>\n",
       "      <td>2300.0</td>\n",
       "      <td>Calcutta</td>\n",
       "      <td>India</td>\n",
       "      <td>0</td>\n",
       "    </tr>\n",
       "    <tr>\n",
       "      <th>3</th>\n",
       "      <td>Infosys</td>\n",
       "      <td>40.0</td>\n",
       "      <td>3000.0</td>\n",
       "      <td>Delhi</td>\n",
       "      <td>India</td>\n",
       "      <td>0</td>\n",
       "    </tr>\n",
       "    <tr>\n",
       "      <th>4</th>\n",
       "      <td>TCS</td>\n",
       "      <td>23.0</td>\n",
       "      <td>4000.0</td>\n",
       "      <td>Mumbai</td>\n",
       "      <td>India</td>\n",
       "      <td>0</td>\n",
       "    </tr>\n",
       "    <tr>\n",
       "      <th>...</th>\n",
       "      <td>...</td>\n",
       "      <td>...</td>\n",
       "      <td>...</td>\n",
       "      <td>...</td>\n",
       "      <td>...</td>\n",
       "      <td>...</td>\n",
       "    </tr>\n",
       "    <tr>\n",
       "      <th>143</th>\n",
       "      <td>TCS</td>\n",
       "      <td>33.0</td>\n",
       "      <td>9024.0</td>\n",
       "      <td>Calcutta</td>\n",
       "      <td>India</td>\n",
       "      <td>1</td>\n",
       "    </tr>\n",
       "    <tr>\n",
       "      <th>144</th>\n",
       "      <td>Infosys</td>\n",
       "      <td>22.0</td>\n",
       "      <td>8787.0</td>\n",
       "      <td>Calcutta</td>\n",
       "      <td>India</td>\n",
       "      <td>1</td>\n",
       "    </tr>\n",
       "    <tr>\n",
       "      <th>145</th>\n",
       "      <td>Infosys</td>\n",
       "      <td>44.0</td>\n",
       "      <td>4034.0</td>\n",
       "      <td>Delhi</td>\n",
       "      <td>India</td>\n",
       "      <td>1</td>\n",
       "    </tr>\n",
       "    <tr>\n",
       "      <th>146</th>\n",
       "      <td>TCS</td>\n",
       "      <td>33.0</td>\n",
       "      <td>5034.0</td>\n",
       "      <td>Mumbai</td>\n",
       "      <td>India</td>\n",
       "      <td>1</td>\n",
       "    </tr>\n",
       "    <tr>\n",
       "      <th>147</th>\n",
       "      <td>Infosys</td>\n",
       "      <td>22.0</td>\n",
       "      <td>8202.0</td>\n",
       "      <td>Cochin</td>\n",
       "      <td>India</td>\n",
       "      <td>0</td>\n",
       "    </tr>\n",
       "  </tbody>\n",
       "</table>\n",
       "<p>148 rows × 6 columns</p>\n",
       "</div>"
      ],
      "text/plain": [
       "     Company   Age  Salary     Place Country  Gender\n",
       "0        TCS  20.0     NaN   Chennai   India       0\n",
       "1    Infosys  30.0     NaN    Mumbai   India       0\n",
       "2        TCS  35.0  2300.0  Calcutta   India       0\n",
       "3    Infosys  40.0  3000.0     Delhi   India       0\n",
       "4        TCS  23.0  4000.0    Mumbai   India       0\n",
       "..       ...   ...     ...       ...     ...     ...\n",
       "143      TCS  33.0  9024.0  Calcutta   India       1\n",
       "144  Infosys  22.0  8787.0  Calcutta   India       1\n",
       "145  Infosys  44.0  4034.0     Delhi   India       1\n",
       "146      TCS  33.0  5034.0    Mumbai   India       1\n",
       "147  Infosys  22.0  8202.0    Cochin   India       0\n",
       "\n",
       "[148 rows x 6 columns]"
      ]
     },
     "execution_count": 101,
     "metadata": {},
     "output_type": "execute_result"
    }
   ],
   "source": [
    "df=pd.read_csv('Downloads/Employee-Copy1.csv')  \n",
    "df"
   ]
  },
  {
   "cell_type": "code",
   "execution_count": 38,
   "id": "8d0af8d3-d92e-48b6-9256-f438615cead2",
   "metadata": {},
   "outputs": [
    {
     "data": {
      "text/html": [
       "<div>\n",
       "<style scoped>\n",
       "    .dataframe tbody tr th:only-of-type {\n",
       "        vertical-align: middle;\n",
       "    }\n",
       "\n",
       "    .dataframe tbody tr th {\n",
       "        vertical-align: top;\n",
       "    }\n",
       "\n",
       "    .dataframe thead th {\n",
       "        text-align: right;\n",
       "    }\n",
       "</style>\n",
       "<table border=\"1\" class=\"dataframe\">\n",
       "  <thead>\n",
       "    <tr style=\"text-align: right;\">\n",
       "      <th></th>\n",
       "      <th>Age</th>\n",
       "      <th>Salary</th>\n",
       "      <th>Gender</th>\n",
       "    </tr>\n",
       "  </thead>\n",
       "  <tbody>\n",
       "    <tr>\n",
       "      <th>count</th>\n",
       "      <td>130.000000</td>\n",
       "      <td>124.000000</td>\n",
       "      <td>148.000000</td>\n",
       "    </tr>\n",
       "    <tr>\n",
       "      <th>mean</th>\n",
       "      <td>30.484615</td>\n",
       "      <td>5312.467742</td>\n",
       "      <td>0.222973</td>\n",
       "    </tr>\n",
       "    <tr>\n",
       "      <th>std</th>\n",
       "      <td>11.096640</td>\n",
       "      <td>2573.764683</td>\n",
       "      <td>0.417654</td>\n",
       "    </tr>\n",
       "    <tr>\n",
       "      <th>min</th>\n",
       "      <td>0.000000</td>\n",
       "      <td>1089.000000</td>\n",
       "      <td>0.000000</td>\n",
       "    </tr>\n",
       "    <tr>\n",
       "      <th>25%</th>\n",
       "      <td>22.000000</td>\n",
       "      <td>3030.000000</td>\n",
       "      <td>0.000000</td>\n",
       "    </tr>\n",
       "    <tr>\n",
       "      <th>50%</th>\n",
       "      <td>32.500000</td>\n",
       "      <td>5000.000000</td>\n",
       "      <td>0.000000</td>\n",
       "    </tr>\n",
       "    <tr>\n",
       "      <th>75%</th>\n",
       "      <td>37.750000</td>\n",
       "      <td>8000.000000</td>\n",
       "      <td>0.000000</td>\n",
       "    </tr>\n",
       "    <tr>\n",
       "      <th>max</th>\n",
       "      <td>54.000000</td>\n",
       "      <td>9876.000000</td>\n",
       "      <td>1.000000</td>\n",
       "    </tr>\n",
       "  </tbody>\n",
       "</table>\n",
       "</div>"
      ],
      "text/plain": [
       "              Age       Salary      Gender\n",
       "count  130.000000   124.000000  148.000000\n",
       "mean    30.484615  5312.467742    0.222973\n",
       "std     11.096640  2573.764683    0.417654\n",
       "min      0.000000  1089.000000    0.000000\n",
       "25%     22.000000  3030.000000    0.000000\n",
       "50%     32.500000  5000.000000    0.000000\n",
       "75%     37.750000  8000.000000    0.000000\n",
       "max     54.000000  9876.000000    1.000000"
      ]
     },
     "execution_count": 38,
     "metadata": {},
     "output_type": "execute_result"
    }
   ],
   "source": [
    "# DATA EXPLORATION\n",
    "df.describe()"
   ]
  },
  {
   "cell_type": "code",
   "execution_count": 21,
   "id": "de62f64d-8086-4c32-b308-dbcf5a859a46",
   "metadata": {},
   "outputs": [
    {
     "name": "stdout",
     "output_type": "stream",
     "text": [
      "<class 'pandas.core.frame.DataFrame'>\n",
      "RangeIndex: 148 entries, 0 to 147\n",
      "Data columns (total 6 columns):\n",
      " #   Column   Non-Null Count  Dtype  \n",
      "---  ------   --------------  -----  \n",
      " 0   Company  140 non-null    object \n",
      " 1   Age      130 non-null    float64\n",
      " 2   Salary   124 non-null    float64\n",
      " 3   Place    134 non-null    object \n",
      " 4   Country  148 non-null    object \n",
      " 5   Gender   148 non-null    int64  \n",
      "dtypes: float64(2), int64(1), object(3)\n",
      "memory usage: 7.1+ KB\n"
     ]
    }
   ],
   "source": [
    "df.info()"
   ]
  },
  {
   "cell_type": "code",
   "execution_count": 23,
   "id": "928c18c9-f7e9-44d5-acb8-2f2923c533b4",
   "metadata": {},
   "outputs": [
    {
     "data": {
      "text/plain": [
       "(148, 6)"
      ]
     },
     "execution_count": 23,
     "metadata": {},
     "output_type": "execute_result"
    }
   ],
   "source": [
    "df.shape"
   ]
  },
  {
   "cell_type": "code",
   "execution_count": 40,
   "id": "99974bca-c087-433f-99cc-088c5568f60b",
   "metadata": {},
   "outputs": [
    {
     "data": {
      "text/html": [
       "<div>\n",
       "<style scoped>\n",
       "    .dataframe tbody tr th:only-of-type {\n",
       "        vertical-align: middle;\n",
       "    }\n",
       "\n",
       "    .dataframe tbody tr th {\n",
       "        vertical-align: top;\n",
       "    }\n",
       "\n",
       "    .dataframe thead th {\n",
       "        text-align: right;\n",
       "    }\n",
       "</style>\n",
       "<table border=\"1\" class=\"dataframe\">\n",
       "  <thead>\n",
       "    <tr style=\"text-align: right;\">\n",
       "      <th></th>\n",
       "      <th>Company</th>\n",
       "      <th>Age</th>\n",
       "      <th>Salary</th>\n",
       "      <th>Place</th>\n",
       "      <th>Country</th>\n",
       "      <th>Gender</th>\n",
       "    </tr>\n",
       "  </thead>\n",
       "  <tbody>\n",
       "    <tr>\n",
       "      <th>0</th>\n",
       "      <td>TCS</td>\n",
       "      <td>20.0</td>\n",
       "      <td>NaN</td>\n",
       "      <td>Chennai</td>\n",
       "      <td>India</td>\n",
       "      <td>0</td>\n",
       "    </tr>\n",
       "    <tr>\n",
       "      <th>1</th>\n",
       "      <td>Infosys</td>\n",
       "      <td>30.0</td>\n",
       "      <td>NaN</td>\n",
       "      <td>Mumbai</td>\n",
       "      <td>India</td>\n",
       "      <td>0</td>\n",
       "    </tr>\n",
       "    <tr>\n",
       "      <th>2</th>\n",
       "      <td>TCS</td>\n",
       "      <td>35.0</td>\n",
       "      <td>2300.0</td>\n",
       "      <td>Calcutta</td>\n",
       "      <td>India</td>\n",
       "      <td>0</td>\n",
       "    </tr>\n",
       "    <tr>\n",
       "      <th>3</th>\n",
       "      <td>Infosys</td>\n",
       "      <td>40.0</td>\n",
       "      <td>3000.0</td>\n",
       "      <td>Delhi</td>\n",
       "      <td>India</td>\n",
       "      <td>0</td>\n",
       "    </tr>\n",
       "    <tr>\n",
       "      <th>4</th>\n",
       "      <td>TCS</td>\n",
       "      <td>23.0</td>\n",
       "      <td>4000.0</td>\n",
       "      <td>Mumbai</td>\n",
       "      <td>India</td>\n",
       "      <td>0</td>\n",
       "    </tr>\n",
       "  </tbody>\n",
       "</table>\n",
       "</div>"
      ],
      "text/plain": [
       "   Company   Age  Salary     Place Country  Gender\n",
       "0      TCS  20.0     NaN   Chennai   India       0\n",
       "1  Infosys  30.0     NaN    Mumbai   India       0\n",
       "2      TCS  35.0  2300.0  Calcutta   India       0\n",
       "3  Infosys  40.0  3000.0     Delhi   India       0\n",
       "4      TCS  23.0  4000.0    Mumbai   India       0"
      ]
     },
     "execution_count": 40,
     "metadata": {},
     "output_type": "execute_result"
    }
   ],
   "source": [
    "df.head()"
   ]
  },
  {
   "cell_type": "code",
   "execution_count": 42,
   "id": "3fda3084-246c-4c01-8fe7-d832c6f6b922",
   "metadata": {},
   "outputs": [
    {
     "data": {
      "text/html": [
       "<div>\n",
       "<style scoped>\n",
       "    .dataframe tbody tr th:only-of-type {\n",
       "        vertical-align: middle;\n",
       "    }\n",
       "\n",
       "    .dataframe tbody tr th {\n",
       "        vertical-align: top;\n",
       "    }\n",
       "\n",
       "    .dataframe thead th {\n",
       "        text-align: right;\n",
       "    }\n",
       "</style>\n",
       "<table border=\"1\" class=\"dataframe\">\n",
       "  <thead>\n",
       "    <tr style=\"text-align: right;\">\n",
       "      <th></th>\n",
       "      <th>Company</th>\n",
       "      <th>Age</th>\n",
       "      <th>Salary</th>\n",
       "      <th>Place</th>\n",
       "      <th>Country</th>\n",
       "      <th>Gender</th>\n",
       "    </tr>\n",
       "  </thead>\n",
       "  <tbody>\n",
       "    <tr>\n",
       "      <th>143</th>\n",
       "      <td>TCS</td>\n",
       "      <td>33.0</td>\n",
       "      <td>9024.0</td>\n",
       "      <td>Calcutta</td>\n",
       "      <td>India</td>\n",
       "      <td>1</td>\n",
       "    </tr>\n",
       "    <tr>\n",
       "      <th>144</th>\n",
       "      <td>Infosys</td>\n",
       "      <td>22.0</td>\n",
       "      <td>8787.0</td>\n",
       "      <td>Calcutta</td>\n",
       "      <td>India</td>\n",
       "      <td>1</td>\n",
       "    </tr>\n",
       "    <tr>\n",
       "      <th>145</th>\n",
       "      <td>Infosys</td>\n",
       "      <td>44.0</td>\n",
       "      <td>4034.0</td>\n",
       "      <td>Delhi</td>\n",
       "      <td>India</td>\n",
       "      <td>1</td>\n",
       "    </tr>\n",
       "    <tr>\n",
       "      <th>146</th>\n",
       "      <td>TCS</td>\n",
       "      <td>33.0</td>\n",
       "      <td>5034.0</td>\n",
       "      <td>Mumbai</td>\n",
       "      <td>India</td>\n",
       "      <td>1</td>\n",
       "    </tr>\n",
       "    <tr>\n",
       "      <th>147</th>\n",
       "      <td>Infosys</td>\n",
       "      <td>22.0</td>\n",
       "      <td>8202.0</td>\n",
       "      <td>Cochin</td>\n",
       "      <td>India</td>\n",
       "      <td>0</td>\n",
       "    </tr>\n",
       "  </tbody>\n",
       "</table>\n",
       "</div>"
      ],
      "text/plain": [
       "     Company   Age  Salary     Place Country  Gender\n",
       "143      TCS  33.0  9024.0  Calcutta   India       1\n",
       "144  Infosys  22.0  8787.0  Calcutta   India       1\n",
       "145  Infosys  44.0  4034.0     Delhi   India       1\n",
       "146      TCS  33.0  5034.0    Mumbai   India       1\n",
       "147  Infosys  22.0  8202.0    Cochin   India       0"
      ]
     },
     "execution_count": 42,
     "metadata": {},
     "output_type": "execute_result"
    }
   ],
   "source": [
    "df.tail()"
   ]
  },
  {
   "cell_type": "code",
   "execution_count": 25,
   "id": "980bef69-02a0-4d01-a872-7dabcc1b59cf",
   "metadata": {},
   "outputs": [
    {
     "data": {
      "text/plain": [
       "array(['TCS', 'Infosys', 'CTS', nan, 'Tata Consultancy Services',\n",
       "       'Congnizant', 'Infosys Pvt Lmt'], dtype=object)"
      ]
     },
     "execution_count": 25,
     "metadata": {},
     "output_type": "execute_result"
    }
   ],
   "source": [
    "df['Company'].unique()"
   ]
  },
  {
   "cell_type": "code",
   "execution_count": 27,
   "id": "ce108b05-c08a-4cf6-98d1-fddb36513c74",
   "metadata": {},
   "outputs": [
    {
     "data": {
      "text/plain": [
       "6"
      ]
     },
     "execution_count": 27,
     "metadata": {},
     "output_type": "execute_result"
    }
   ],
   "source": [
    "df['Company'].nunique()"
   ]
  },
  {
   "cell_type": "code",
   "execution_count": 29,
   "id": "4e2817f8-f99a-4764-9477-96fa844eced7",
   "metadata": {},
   "outputs": [
    {
     "data": {
      "text/plain": [
       "Company\n",
       "TCS                          53\n",
       "Infosys                      45\n",
       "CTS                          36\n",
       "Tata Consultancy Services     2\n",
       "Congnizant                    2\n",
       "Infosys Pvt Lmt               2\n",
       "Name: count, dtype: int64"
      ]
     },
     "execution_count": 29,
     "metadata": {},
     "output_type": "execute_result"
    }
   ],
   "source": [
    "df['Company'].value_counts()"
   ]
  },
  {
   "cell_type": "code",
   "execution_count": 31,
   "id": "8a98aec4-595f-4723-9e07-e52794f846a3",
   "metadata": {},
   "outputs": [
    {
     "data": {
      "text/plain": [
       "array([20., 30., 35., 40., 23., nan, 34., 45., 18., 22., 32., 37., 50.,\n",
       "       21., 46., 36., 26., 41., 24., 25., 43., 19., 38., 51., 31., 44.,\n",
       "       33., 17.,  0., 54.])"
      ]
     },
     "execution_count": 31,
     "metadata": {},
     "output_type": "execute_result"
    }
   ],
   "source": [
    "df['Age'].unique()"
   ]
  },
  {
   "cell_type": "code",
   "execution_count": 33,
   "id": "1d04bd7a-961f-4ee1-8b40-deebe35c8cac",
   "metadata": {},
   "outputs": [
    {
     "data": {
      "text/plain": [
       "29"
      ]
     },
     "execution_count": 33,
     "metadata": {},
     "output_type": "execute_result"
    }
   ],
   "source": [
    "df['Age'].nunique()"
   ]
  },
  {
   "cell_type": "code",
   "execution_count": 35,
   "id": "441e38ca-a34e-45c6-9b2b-8b6ca93d4f76",
   "metadata": {},
   "outputs": [
    {
     "data": {
      "text/plain": [
       "Age\n",
       "22.0    16\n",
       "33.0    13\n",
       "44.0    10\n",
       "23.0     8\n",
       "34.0     8\n",
       "21.0     8\n",
       "32.0     7\n",
       "35.0     6\n",
       "0.0      6\n",
       "41.0     5\n",
       "45.0     4\n",
       "43.0     4\n",
       "24.0     4\n",
       "20.0     3\n",
       "31.0     3\n",
       "25.0     3\n",
       "36.0     3\n",
       "40.0     3\n",
       "26.0     2\n",
       "30.0     2\n",
       "46.0     2\n",
       "50.0     2\n",
       "37.0     2\n",
       "19.0     1\n",
       "38.0     1\n",
       "51.0     1\n",
       "18.0     1\n",
       "17.0     1\n",
       "54.0     1\n",
       "Name: count, dtype: int64"
      ]
     },
     "execution_count": 35,
     "metadata": {},
     "output_type": "execute_result"
    }
   ],
   "source": [
    "df['Age'].value_counts()"
   ]
  },
  {
   "cell_type": "code",
   "execution_count": 37,
   "id": "9a93b9ae-af5e-47f6-93f7-390af54b70c9",
   "metadata": {},
   "outputs": [
    {
     "data": {
      "text/plain": [
       "array([  nan, 2300., 3000., 4000., 5000., 6000., 7000., 8000., 9000.,\n",
       "       1089., 1234., 3030., 3045., 3184., 4824., 5835., 7084., 8943.,\n",
       "       8345., 9284., 9876., 2034., 7654., 2934., 4034., 5034., 8202.,\n",
       "       9024., 4345., 6544., 6543., 3234., 4324., 5435., 5555., 8787.,\n",
       "       3454., 5654., 5009., 5098., 3033.])"
      ]
     },
     "execution_count": 37,
     "metadata": {},
     "output_type": "execute_result"
    }
   ],
   "source": [
    "df['Salary'].unique()"
   ]
  },
  {
   "cell_type": "code",
   "execution_count": 39,
   "id": "7a47867c-8cdf-459e-a37b-3e9e2c146557",
   "metadata": {},
   "outputs": [
    {
     "data": {
      "text/plain": [
       "40"
      ]
     },
     "execution_count": 39,
     "metadata": {},
     "output_type": "execute_result"
    }
   ],
   "source": [
    "df['Salary'].nunique()"
   ]
  },
  {
   "cell_type": "code",
   "execution_count": 41,
   "id": "7e2170f1-941b-4058-9c4f-646157abe479",
   "metadata": {},
   "outputs": [
    {
     "data": {
      "text/plain": [
       "Salary\n",
       "3000.0    9\n",
       "5000.0    6\n",
       "8202.0    5\n",
       "5034.0    5\n",
       "4034.0    5\n",
       "2300.0    4\n",
       "5835.0    4\n",
       "8787.0    4\n",
       "9024.0    4\n",
       "2934.0    4\n",
       "9284.0    4\n",
       "8345.0    4\n",
       "8943.0    4\n",
       "7084.0    4\n",
       "2034.0    4\n",
       "4824.0    4\n",
       "3045.0    4\n",
       "3184.0    4\n",
       "1234.0    4\n",
       "1089.0    4\n",
       "9000.0    3\n",
       "6000.0    3\n",
       "7000.0    3\n",
       "8000.0    3\n",
       "3030.0    3\n",
       "4000.0    2\n",
       "7654.0    2\n",
       "9876.0    2\n",
       "3234.0    2\n",
       "5098.0    1\n",
       "5009.0    1\n",
       "5654.0    1\n",
       "3454.0    1\n",
       "4345.0    1\n",
       "5555.0    1\n",
       "5435.0    1\n",
       "4324.0    1\n",
       "6543.0    1\n",
       "6544.0    1\n",
       "3033.0    1\n",
       "Name: count, dtype: int64"
      ]
     },
     "execution_count": 41,
     "metadata": {},
     "output_type": "execute_result"
    }
   ],
   "source": [
    "df['Salary'].value_counts()"
   ]
  },
  {
   "cell_type": "code",
   "execution_count": 43,
   "id": "52d00b1e-499c-4ac5-814a-387152f2504a",
   "metadata": {},
   "outputs": [
    {
     "data": {
      "text/plain": [
       "array(['Chennai', 'Mumbai', 'Calcutta', 'Delhi', 'Podicherry', 'Cochin',\n",
       "       nan, 'Noida', 'Hyderabad', 'Bhopal', 'Nagpur', 'Pune'],\n",
       "      dtype=object)"
      ]
     },
     "execution_count": 43,
     "metadata": {},
     "output_type": "execute_result"
    }
   ],
   "source": [
    "df['Place'].unique()"
   ]
  },
  {
   "cell_type": "code",
   "execution_count": 45,
   "id": "41dc106c-358d-41ab-8173-d0d7347785b2",
   "metadata": {},
   "outputs": [
    {
     "data": {
      "text/plain": [
       "11"
      ]
     },
     "execution_count": 45,
     "metadata": {},
     "output_type": "execute_result"
    }
   ],
   "source": [
    "df['Place'].nunique()"
   ]
  },
  {
   "cell_type": "code",
   "execution_count": 47,
   "id": "2042369f-902b-429e-9291-29ae60af2f0d",
   "metadata": {},
   "outputs": [
    {
     "data": {
      "text/plain": [
       "Place\n",
       "Mumbai        37\n",
       "Calcutta      33\n",
       "Chennai       14\n",
       "Delhi         14\n",
       "Cochin        13\n",
       "Noida          8\n",
       "Hyderabad      8\n",
       "Podicherry     3\n",
       "Pune           2\n",
       "Bhopal         1\n",
       "Nagpur         1\n",
       "Name: count, dtype: int64"
      ]
     },
     "execution_count": 47,
     "metadata": {},
     "output_type": "execute_result"
    }
   ],
   "source": [
    "df['Place'].value_counts()"
   ]
  },
  {
   "cell_type": "code",
   "execution_count": 49,
   "id": "2b0f7cef-ba27-446a-bb7a-89cd0f178dee",
   "metadata": {},
   "outputs": [
    {
     "data": {
      "text/plain": [
       "array(['India'], dtype=object)"
      ]
     },
     "execution_count": 49,
     "metadata": {},
     "output_type": "execute_result"
    }
   ],
   "source": [
    "df['Country'].unique()"
   ]
  },
  {
   "cell_type": "code",
   "execution_count": 51,
   "id": "8c45e07a-c5e1-4944-8f43-a154954babc6",
   "metadata": {},
   "outputs": [
    {
     "data": {
      "text/plain": [
       "1"
      ]
     },
     "execution_count": 51,
     "metadata": {},
     "output_type": "execute_result"
    }
   ],
   "source": [
    "df['Country'].nunique()"
   ]
  },
  {
   "cell_type": "code",
   "execution_count": 17,
   "id": "535f93a7-c09e-49e9-9c12-8c989ea0a6ac",
   "metadata": {},
   "outputs": [
    {
     "data": {
      "text/plain": [
       "Country\n",
       "India    148\n",
       "Name: count, dtype: int64"
      ]
     },
     "execution_count": 17,
     "metadata": {},
     "output_type": "execute_result"
    }
   ],
   "source": [
    "df['Country'].value_counts()"
   ]
  },
  {
   "cell_type": "code",
   "execution_count": 55,
   "id": "074bb2bf-a971-478f-a44b-10a0de684115",
   "metadata": {},
   "outputs": [
    {
     "data": {
      "text/plain": [
       "array([0, 1], dtype=int64)"
      ]
     },
     "execution_count": 55,
     "metadata": {},
     "output_type": "execute_result"
    }
   ],
   "source": [
    "df['Gender'].unique()"
   ]
  },
  {
   "cell_type": "code",
   "execution_count": 57,
   "id": "8d9f8764-cdc5-45c0-8751-68ecb3fa24ae",
   "metadata": {},
   "outputs": [
    {
     "data": {
      "text/plain": [
       "2"
      ]
     },
     "execution_count": 57,
     "metadata": {},
     "output_type": "execute_result"
    }
   ],
   "source": [
    "df['Gender'].nunique()"
   ]
  },
  {
   "cell_type": "code",
   "execution_count": 59,
   "id": "9c19185f-7af4-428c-9eca-29cee3b9e700",
   "metadata": {},
   "outputs": [
    {
     "data": {
      "text/plain": [
       "Gender\n",
       "0    115\n",
       "1     33\n",
       "Name: count, dtype: int64"
      ]
     },
     "execution_count": 59,
     "metadata": {},
     "output_type": "execute_result"
    }
   ],
   "source": [
    "df['Gender'].value_counts()"
   ]
  },
  {
   "cell_type": "code",
   "execution_count": 72,
   "id": "e8cce856-9554-4a31-a0f6-9146267bfc88",
   "metadata": {},
   "outputs": [
    {
     "data": {
      "text/plain": [
       "148"
      ]
     },
     "execution_count": 72,
     "metadata": {},
     "output_type": "execute_result"
    }
   ],
   "source": [
    "len(df)"
   ]
  },
  {
   "cell_type": "code",
   "execution_count": 78,
   "id": "08efbe4d-0f49-469d-a9ff-2b93561a5685",
   "metadata": {},
   "outputs": [
    {
     "data": {
      "text/plain": [
       "148"
      ]
     },
     "execution_count": 78,
     "metadata": {},
     "output_type": "execute_result"
    }
   ],
   "source": [
    "len(df.Company)"
   ]
  },
  {
   "cell_type": "code",
   "execution_count": 61,
   "id": "5d9af3a8-bd32-421b-875e-e01cab065930",
   "metadata": {},
   "outputs": [
    {
     "data": {
      "text/plain": [
       "4"
      ]
     },
     "execution_count": 61,
     "metadata": {},
     "output_type": "execute_result"
    }
   ],
   "source": [
    "# DATA CLEANING\n",
    "# checking for duplicates\n",
    "df.duplicated().sum()"
   ]
  },
  {
   "cell_type": "code",
   "execution_count": 63,
   "id": "7872a8c3-a3e1-49a8-a8f3-14e1a497cbad",
   "metadata": {},
   "outputs": [
    {
     "data": {
      "text/plain": [
       "Company     8\n",
       "Age        18\n",
       "Salary     24\n",
       "Place      14\n",
       "Country     0\n",
       "Gender      0\n",
       "dtype: int64"
      ]
     },
     "execution_count": 63,
     "metadata": {},
     "output_type": "execute_result"
    }
   ],
   "source": [
    "# missing values\n",
    "df.isnull().sum()"
   ]
  },
  {
   "cell_type": "code",
   "execution_count": 45,
   "id": "f60755b2-7601-4b12-a811-00620ee24739",
   "metadata": {},
   "outputs": [
    {
     "data": {
      "text/plain": [
       "0"
      ]
     },
     "execution_count": 45,
     "metadata": {},
     "output_type": "execute_result"
    }
   ],
   "source": [
    "df.duplicated().sum()"
   ]
  },
  {
   "cell_type": "code",
   "execution_count": 41,
   "id": "ab21a799-df8d-4fa9-916f-2303b16f7b66",
   "metadata": {},
   "outputs": [
    {
     "data": {
      "image/png": "[encoded data removed]",
      "text/plain": [
       "<Figure size 1200x500 with 2 Axes>"
      ]
     },
     "metadata": {},
     "output_type": "display_data"
    }
   ],
   "source": [
    "#outliers\n",
    "import matplotlib.pyplot as plt\n",
    "import seaborn as sns\n",
    "plt.figure(figsize=(12, 5))\n",
    "plt.subplot(1, 2, 1)\n",
    "sns.boxplot(x=df['Age'])\n",
    "plt.title('Box Plot of Age')\n",
    "plt.subplot(1, 2, 2)\n",
    "sns.boxplot(x=df['Salary'])\n",
    "plt.title('Box Plot of Salary')\n",
    "plt.show()"
   ]
  },
  {
   "cell_type": "code",
   "execution_count": 59,
   "id": "43425267-5991-4a68-94c5-5f3dce15b991",
   "metadata": {},
   "outputs": [
    {
     "data": {
      "text/plain": [
       "0      20.0\n",
       "1      30.0\n",
       "2      35.0\n",
       "3      40.0\n",
       "4      23.0\n",
       "       ... \n",
       "142    22.0\n",
       "143    33.0\n",
       "145    44.0\n",
       "146    33.0\n",
       "147    22.0\n",
       "Name: Age, Length: 144, dtype: float64"
      ]
     },
     "execution_count": 59,
     "metadata": {},
     "output_type": "execute_result"
    }
   ],
   "source": [
    "#Replace the value 0 in 'Age' as NaN\n",
    "df['Age'].replace(0,np.nan)"
   ]
  },
  {
   "cell_type": "code",
   "execution_count": 7,
   "id": "cf4bc1de-e9e5-4f43-aaa5-c2b7ea559288",
   "metadata": {},
   "outputs": [],
   "source": [
    "import pandas as pd\n",
    "import numpy as np\n",
    "import seaborn as sns\n",
    "import matplotlib.pyplot as plt"
   ]
  },
  {
   "cell_type": "code",
   "execution_count": 9,
   "id": "f9ea9137-8761-4d3f-ac79-ac8701758ba6",
   "metadata": {},
   "outputs": [
    {
     "data": {
      "text/html": [
       "<div>\n",
       "<style scoped>\n",
       "    .dataframe tbody tr th:only-of-type {\n",
       "        vertical-align: middle;\n",
       "    }\n",
       "\n",
       "    .dataframe tbody tr th {\n",
       "        vertical-align: top;\n",
       "    }\n",
       "\n",
       "    .dataframe thead th {\n",
       "        text-align: right;\n",
       "    }\n",
       "</style>\n",
       "<table border=\"1\" class=\"dataframe\">\n",
       "  <thead>\n",
       "    <tr style=\"text-align: right;\">\n",
       "      <th></th>\n",
       "      <th>Company</th>\n",
       "      <th>Age</th>\n",
       "      <th>Salary</th>\n",
       "      <th>Place</th>\n",
       "      <th>Country</th>\n",
       "      <th>Gender</th>\n",
       "    </tr>\n",
       "  </thead>\n",
       "  <tbody>\n",
       "    <tr>\n",
       "      <th>0</th>\n",
       "      <td>TCS</td>\n",
       "      <td>20.0</td>\n",
       "      <td>NaN</td>\n",
       "      <td>Chennai</td>\n",
       "      <td>India</td>\n",
       "      <td>0</td>\n",
       "    </tr>\n",
       "    <tr>\n",
       "      <th>1</th>\n",
       "      <td>Infosys</td>\n",
       "      <td>30.0</td>\n",
       "      <td>NaN</td>\n",
       "      <td>Mumbai</td>\n",
       "      <td>India</td>\n",
       "      <td>0</td>\n",
       "    </tr>\n",
       "    <tr>\n",
       "      <th>2</th>\n",
       "      <td>TCS</td>\n",
       "      <td>35.0</td>\n",
       "      <td>2300.0</td>\n",
       "      <td>Calcutta</td>\n",
       "      <td>India</td>\n",
       "      <td>0</td>\n",
       "    </tr>\n",
       "    <tr>\n",
       "      <th>3</th>\n",
       "      <td>Infosys</td>\n",
       "      <td>40.0</td>\n",
       "      <td>3000.0</td>\n",
       "      <td>Delhi</td>\n",
       "      <td>India</td>\n",
       "      <td>0</td>\n",
       "    </tr>\n",
       "    <tr>\n",
       "      <th>4</th>\n",
       "      <td>TCS</td>\n",
       "      <td>23.0</td>\n",
       "      <td>4000.0</td>\n",
       "      <td>Mumbai</td>\n",
       "      <td>India</td>\n",
       "      <td>0</td>\n",
       "    </tr>\n",
       "    <tr>\n",
       "      <th>...</th>\n",
       "      <td>...</td>\n",
       "      <td>...</td>\n",
       "      <td>...</td>\n",
       "      <td>...</td>\n",
       "      <td>...</td>\n",
       "      <td>...</td>\n",
       "    </tr>\n",
       "    <tr>\n",
       "      <th>143</th>\n",
       "      <td>TCS</td>\n",
       "      <td>33.0</td>\n",
       "      <td>9024.0</td>\n",
       "      <td>Calcutta</td>\n",
       "      <td>India</td>\n",
       "      <td>1</td>\n",
       "    </tr>\n",
       "    <tr>\n",
       "      <th>144</th>\n",
       "      <td>Infosys</td>\n",
       "      <td>22.0</td>\n",
       "      <td>8787.0</td>\n",
       "      <td>Calcutta</td>\n",
       "      <td>India</td>\n",
       "      <td>1</td>\n",
       "    </tr>\n",
       "    <tr>\n",
       "      <th>145</th>\n",
       "      <td>Infosys</td>\n",
       "      <td>44.0</td>\n",
       "      <td>4034.0</td>\n",
       "      <td>Delhi</td>\n",
       "      <td>India</td>\n",
       "      <td>1</td>\n",
       "    </tr>\n",
       "    <tr>\n",
       "      <th>146</th>\n",
       "      <td>TCS</td>\n",
       "      <td>33.0</td>\n",
       "      <td>5034.0</td>\n",
       "      <td>Mumbai</td>\n",
       "      <td>India</td>\n",
       "      <td>1</td>\n",
       "    </tr>\n",
       "    <tr>\n",
       "      <th>147</th>\n",
       "      <td>Infosys</td>\n",
       "      <td>22.0</td>\n",
       "      <td>8202.0</td>\n",
       "      <td>Cochin</td>\n",
       "      <td>India</td>\n",
       "      <td>0</td>\n",
       "    </tr>\n",
       "  </tbody>\n",
       "</table>\n",
       "<p>148 rows × 6 columns</p>\n",
       "</div>"
      ],
      "text/plain": [
       "     Company   Age  Salary     Place Country  Gender\n",
       "0        TCS  20.0     NaN   Chennai   India       0\n",
       "1    Infosys  30.0     NaN    Mumbai   India       0\n",
       "2        TCS  35.0  2300.0  Calcutta   India       0\n",
       "3    Infosys  40.0  3000.0     Delhi   India       0\n",
       "4        TCS  23.0  4000.0    Mumbai   India       0\n",
       "..       ...   ...     ...       ...     ...     ...\n",
       "143      TCS  33.0  9024.0  Calcutta   India       1\n",
       "144  Infosys  22.0  8787.0  Calcutta   India       1\n",
       "145  Infosys  44.0  4034.0     Delhi   India       1\n",
       "146      TCS  33.0  5034.0    Mumbai   India       1\n",
       "147  Infosys  22.0  8202.0    Cochin   India       0\n",
       "\n",
       "[148 rows x 6 columns]"
      ]
     },
     "execution_count": 9,
     "metadata": {},
     "output_type": "execute_result"
    }
   ],
   "source": [
    "df=pd.read_csv('Downloads/Employee-Copy1.csv')  \n",
    "df"
   ]
  },
  {
   "cell_type": "code",
   "execution_count": 66,
   "id": "066d30a0-e1a0-47b8-9859-fe981a1a0765",
   "metadata": {},
   "outputs": [
    {
     "data": {
      "text/plain": [
       "30.484615384615388"
      ]
     },
     "execution_count": 66,
     "metadata": {},
     "output_type": "execute_result"
    }
   ],
   "source": [
    "df['Age'].mean()"
   ]
  },
  {
   "cell_type": "code",
   "execution_count": 80,
   "id": "870b3d0c-bd48-4cfd-9f24-dbdc259145a7",
   "metadata": {},
   "outputs": [
    {
     "name": "stdout",
     "output_type": "stream",
     "text": [
      "     Company   Age  Salary     Place Country  Gender\n",
      "0        TCS  20.0  5000.0   Chennai   India       0\n",
      "1    Infosys  30.0  5000.0    Mumbai   India       0\n",
      "2        TCS  35.0  2300.0  Calcutta   India       0\n",
      "3    Infosys  40.0  3000.0     Delhi   India       0\n",
      "4        TCS  23.0  4000.0    Mumbai   India       0\n",
      "..       ...   ...     ...       ...     ...     ...\n",
      "143      TCS  33.0  9024.0  Calcutta   India       1\n",
      "144  Infosys  22.0  8787.0  Calcutta   India       1\n",
      "145  Infosys  44.0  4034.0     Delhi   India       1\n",
      "146      TCS  33.0  5034.0    Mumbai   India       1\n",
      "147  Infosys  22.0  8202.0    Cochin   India       0\n",
      "\n",
      "[148 rows x 6 columns]\n"
     ]
    }
   ],
   "source": [
    "# Treat null values in 'Age' using the mean\n",
    "df['Age'] = df['Age'].fillna(30.484615384615388)\n",
    "print(df)"
   ]
  },
  {
   "cell_type": "code",
   "execution_count": 82,
   "id": "aff8d005-1fc1-45d6-9e74-5bcc7b14e0d9",
   "metadata": {},
   "outputs": [
    {
     "data": {
      "text/plain": [
       "5000.0"
      ]
     },
     "execution_count": 82,
     "metadata": {},
     "output_type": "execute_result"
    }
   ],
   "source": [
    "df['Salary'].median()"
   ]
  },
  {
   "cell_type": "code",
   "execution_count": 84,
   "id": "db124e65-cecb-41c5-869d-479e072f9040",
   "metadata": {},
   "outputs": [
    {
     "name": "stdout",
     "output_type": "stream",
     "text": [
      "     Company   Age  Salary     Place Country  Gender\n",
      "0        TCS  20.0  5000.0   Chennai   India       0\n",
      "1    Infosys  30.0  5000.0    Mumbai   India       0\n",
      "2        TCS  35.0  2300.0  Calcutta   India       0\n",
      "3    Infosys  40.0  3000.0     Delhi   India       0\n",
      "4        TCS  23.0  4000.0    Mumbai   India       0\n",
      "..       ...   ...     ...       ...     ...     ...\n",
      "143      TCS  33.0  9024.0  Calcutta   India       1\n",
      "144  Infosys  22.0  8787.0  Calcutta   India       1\n",
      "145  Infosys  44.0  4034.0     Delhi   India       1\n",
      "146      TCS  33.0  5034.0    Mumbai   India       1\n",
      "147  Infosys  22.0  8202.0    Cochin   India       0\n",
      "\n",
      "[148 rows x 6 columns]\n"
     ]
    }
   ],
   "source": [
    "# Treat null values in 'Salary' using the median (as it might be affected by outliers)\n",
    "df.fillna({'Salary':5000.0},inplace=True)\n",
    "print(df)"
   ]
  },
  {
   "cell_type": "code",
   "execution_count": 86,
   "id": "83199d8c-a5ad-477c-b9bf-f08a5576b33a",
   "metadata": {},
   "outputs": [
    {
     "data": {
      "text/plain": [
       "'Mumbai'"
      ]
     },
     "execution_count": 86,
     "metadata": {},
     "output_type": "execute_result"
    }
   ],
   "source": [
    "df['Place'].mode()[0]"
   ]
  },
  {
   "cell_type": "code",
   "execution_count": 88,
   "id": "0312cf7b-96c5-46c0-b6ac-e37a6ae2de8d",
   "metadata": {},
   "outputs": [
    {
     "name": "stdout",
     "output_type": "stream",
     "text": [
      "     Company   Age  Salary     Place Country  Gender\n",
      "0        TCS  20.0  5000.0   Chennai   India       0\n",
      "1    Infosys  30.0  5000.0    Mumbai   India       0\n",
      "2        TCS  35.0  2300.0  Calcutta   India       0\n",
      "3    Infosys  40.0  3000.0     Delhi   India       0\n",
      "4        TCS  23.0  4000.0    Mumbai   India       0\n",
      "..       ...   ...     ...       ...     ...     ...\n",
      "143      TCS  33.0  9024.0  Calcutta   India       1\n",
      "144  Infosys  22.0  8787.0  Calcutta   India       1\n",
      "145  Infosys  44.0  4034.0     Delhi   India       1\n",
      "146      TCS  33.0  5034.0    Mumbai   India       1\n",
      "147  Infosys  22.0  8202.0    Cochin   India       0\n",
      "\n",
      "[148 rows x 6 columns]\n"
     ]
    }
   ],
   "source": [
    "# Treat null values in 'Place' using the mode\n",
    "df['Place'] = df['Place'].fillna('Mumbai')\n",
    "print(df)"
   ]
  },
  {
   "cell_type": "code",
   "execution_count": 106,
   "id": "1241e7ae-b8ee-4287-b2cc-da918ff47ff2",
   "metadata": {},
   "outputs": [
    {
     "name": "stdout",
     "output_type": "stream",
     "text": [
      "     Company   Age  Salary      Place Country  Gender\n",
      "21   Infosys  50.0  3184.0      Delhi   India       0\n",
      "32   Infosys  45.0  4034.0   Calcutta   India       0\n",
      "39   Infosys  41.0  3000.0     Mumbai   India       0\n",
      "50   Infosys  41.0  3000.0    Chennai   India       0\n",
      "57   Infosys  51.0  3184.0  Hyderabad   India       0\n",
      "68   Infosys  43.0  4034.0     Mumbai   India       0\n",
      "75   Infosys  44.0  3000.0     Cochin   India       0\n",
      "86   Infosys  41.0  3000.0      Delhi   India       0\n",
      "93   Infosys  54.0  3184.0     Mumbai   India       0\n",
      "104  Infosys  44.0  4034.0      Delhi   India       0\n",
      "122  Infosys  44.0  3234.0     Mumbai   India       0\n",
      "129  Infosys  50.0  3184.0   Calcutta   India       0\n",
      "138      CTS  44.0  3033.0     Cochin   India       0\n",
      "140  Infosys  44.0  4034.0  Hyderabad   India       0\n",
      "145  Infosys  44.0  4034.0      Delhi   India       1\n"
     ]
    }
   ],
   "source": [
    "# DATA ANALYSIS\n",
    "# Filter the data with Age > 40 and Salary < 5000\n",
    "filtered_df = df[(df['Age'] > 40) & (df['Salary'] < 5000)]\n",
    "print(filtered_df)"
   ]
  },
  {
   "cell_type": "code",
   "execution_count": 110,
   "id": "584be658-4fe6-44e9-a50e-cb7f4fbf9015",
   "metadata": {},
   "outputs": [
    {
     "data": {
      "image/png": "[encoded data removed]",
      "text/plain": [
       "<Figure size 1000x400 with 1 Axes>"
      ]
     },
     "metadata": {},
     "output_type": "display_data"
    }
   ],
   "source": [
    "# Count number of people from each place and plot\n",
    "place_counts = df['Place'].value_counts()\n",
    "plt.figure(figsize=(10,4))\n",
    "sns.barplot(x=place_counts.index, y=place_counts.values)\n",
    "plt.title('Number of People from Each Place')\n",
    "plt.xlabel('Place')\n",
    "plt.ylabel('Count')\n",
    "plt.show()"
   ]
  },
  {
   "cell_type": "code",
   "execution_count": 126,
   "id": "3b220f1d-18e9-444f-935d-ca63187b4949",
   "metadata": {},
   "outputs": [
    {
     "name": "stdout",
     "output_type": "stream",
     "text": [
      "     Company   Age  Salary      Place Country  Gender\n",
      "21   Infosys  50.0  3184.0      Delhi   India       0\n",
      "32   Infosys  45.0  4034.0   Calcutta   India       0\n",
      "39   Infosys  41.0  3000.0     Mumbai   India       0\n",
      "50   Infosys  41.0  3000.0    Chennai   India       0\n",
      "57   Infosys  51.0  3184.0  Hyderabad   India       0\n",
      "68   Infosys  43.0  4034.0     Mumbai   India       0\n",
      "75   Infosys  44.0  3000.0     Cochin   India       0\n",
      "86   Infosys  41.0  3000.0      Delhi   India       0\n",
      "93   Infosys  54.0  3184.0     Mumbai   India       0\n",
      "104  Infosys  44.0  4034.0      Delhi   India       0\n",
      "122  Infosys  44.0  3234.0     Mumbai   India       0\n",
      "129  Infosys  50.0  3184.0   Calcutta   India       0\n",
      "138      CTS  44.0  3033.0     Cochin   India       0\n",
      "140  Infosys  44.0  4034.0  Hyderabad   India       0\n",
      "145  Infosys  44.0  4034.0      Delhi   India       1\n"
     ]
    },
    {
     "data": {
      "image/png": "[encoded data removed]",
      "text/plain": [
       "<Figure size 800x500 with 1 Axes>"
      ]
     },
     "metadata": {},
     "output_type": "display_data"
    }
   ],
   "source": [
    "# Plot Age vs Salary (Scatter Plot)\n",
    "filtered_df = df[(df['Age'] > 40) & (df['Salary'] < 5000)]\n",
    "print(filtered_df)\n",
    "plt.subplots(figsize=(8, 5))\n",
    "sns.scatterplot(x=df['Age'], y=df['Salary'], color='blue', alpha=0.6)\n",
    "plt.plot([df['Age'].min(), df['Age'].max()], [df['Salary'].min(), df['Salary'].max()])\n",
    "plt.xlabel(\"Age\")\n",
    "plt.ylabel(\"Salary\")\n",
    "plt.title('Age vs Salary (Age > 40 & Salary < 5000)')\n",
    "plt.show()"
   ]
  },
  {
   "cell_type": "code",
   "execution_count": null,
   "id": "256c2156-d936-4823-9b81-97796c3f670e",
   "metadata": {},
   "outputs": [],
   "source": [
    "# DATA ENCODING\n",
    "# ONE HOT ENCODING\n",
    "import pandas as pd\n",
    "import numpy as np\n",
    "import seaborn as sns\n",
    "import matplotlib.pyplot as plt\n",
    "from sklearn.preprocessing import OneHotEncoder"
   ]
  },
  {
   "cell_type": "code",
   "execution_count": null,
   "id": "f30022a8-2c5b-4ce7-b6be-76a1b5d7d1fa",
   "metadata": {},
   "outputs": [],
   "source": [
    "encoder=OneHotEncoder()"
   ]
  },
  {
   "cell_type": "code",
   "execution_count": 168,
   "id": "cfd41e6c-d349-4ecf-a58f-4d3427832676",
   "metadata": {},
   "outputs": [
    {
     "name": "stdout",
     "output_type": "stream",
     "text": [
      "      Age  Salary  Gender_encoded  Place_encoded  Company_Congnizant  \\\n",
      "0    20.0  5000.0               2              2               False   \n",
      "1    30.0  5000.0               6              6               False   \n",
      "2    35.0  2300.0               1              1               False   \n",
      "3    40.0  3000.0               4              4               False   \n",
      "4    23.0  4000.0               6              6               False   \n",
      "..    ...     ...             ...            ...                 ...   \n",
      "143  33.0  9024.0               1              1               False   \n",
      "144  22.0  8787.0               1              1               False   \n",
      "145  44.0  4034.0               4              4               False   \n",
      "146  33.0  5034.0               6              6               False   \n",
      "147  22.0  8202.0               3              3               False   \n",
      "\n",
      "     Company_Infosys  Company_Infosys Pvt Lmt  Company_TCS  \\\n",
      "0              False                    False         True   \n",
      "1               True                    False        False   \n",
      "2              False                    False         True   \n",
      "3               True                    False        False   \n",
      "4              False                    False         True   \n",
      "..               ...                      ...          ...   \n",
      "143            False                    False         True   \n",
      "144             True                    False        False   \n",
      "145             True                    False        False   \n",
      "146            False                    False         True   \n",
      "147             True                    False        False   \n",
      "\n",
      "     Company_Tata Consultancy Services  Place_Calcutta  Place_Chennai  \\\n",
      "0                                False           False           True   \n",
      "1                                False           False          False   \n",
      "2                                False            True          False   \n",
      "3                                False           False          False   \n",
      "4                                False           False          False   \n",
      "..                                 ...             ...            ...   \n",
      "143                              False            True          False   \n",
      "144                              False            True          False   \n",
      "145                              False           False          False   \n",
      "146                              False           False          False   \n",
      "147                              False           False          False   \n",
      "\n",
      "     Place_Cochin  Place_Delhi  Place_Hyderabad  Place_Mumbai  Place_Nagpur  \\\n",
      "0           False        False            False         False         False   \n",
      "1           False        False            False          True         False   \n",
      "2           False        False            False         False         False   \n",
      "3           False         True            False         False         False   \n",
      "4           False        False            False          True         False   \n",
      "..            ...          ...              ...           ...           ...   \n",
      "143         False        False            False         False         False   \n",
      "144         False        False            False         False         False   \n",
      "145         False         True            False         False         False   \n",
      "146         False        False            False          True         False   \n",
      "147          True        False            False         False         False   \n",
      "\n",
      "     Place_Noida  Place_Podicherry  Place_Pune  Gender_1  \n",
      "0          False             False       False     False  \n",
      "1          False             False       False     False  \n",
      "2          False             False       False     False  \n",
      "3          False             False       False     False  \n",
      "4          False             False       False     False  \n",
      "..           ...               ...         ...       ...  \n",
      "143        False             False       False      True  \n",
      "144        False             False       False      True  \n",
      "145        False             False       False      True  \n",
      "146        False             False       False      True  \n",
      "147        False             False       False     False  \n",
      "\n",
      "[148 rows x 20 columns]\n"
     ]
    }
   ],
   "source": [
    "df_encoded = pd.get_dummies(df, columns=['Company','Place','Country','Gender'], drop_first=True)\n",
    "print(df_encoded)"
   ]
  },
  {
   "cell_type": "code",
   "execution_count": 214,
   "id": "6940c3b5-6155-4283-8e84-37ac47234566",
   "metadata": {},
   "outputs": [],
   "source": [
    "# LABEL ENCODING\n",
    "import pandas as pd\n",
    "import numpy as np\n",
    "import seaborn as sns\n",
    "import matplotlib.pyplot as plt\n",
    "from sklearn.preprocessing import LabelEncoder"
   ]
  },
  {
   "cell_type": "code",
   "execution_count": 216,
   "id": "2d248dfa-4acf-4330-ad50-e5fb49fd226f",
   "metadata": {},
   "outputs": [],
   "source": [
    "label_encoder = LabelEncoder()"
   ]
  },
  {
   "cell_type": "code",
   "execution_count": 218,
   "id": "277c44a9-2957-4bee-99de-4be046a57470",
   "metadata": {},
   "outputs": [
    {
     "name": "stdout",
     "output_type": "stream",
     "text": [
      "0      4\n",
      "1      2\n",
      "2      4\n",
      "3      2\n",
      "4      4\n",
      "      ..\n",
      "143    4\n",
      "144    2\n",
      "145    2\n",
      "146    4\n",
      "147    2\n",
      "Name: Company_encoded, Length: 148, dtype: int32\n",
      "0      2\n",
      "1      6\n",
      "2      1\n",
      "3      4\n",
      "4      6\n",
      "      ..\n",
      "143    1\n",
      "144    1\n",
      "145    4\n",
      "146    6\n",
      "147    3\n",
      "Name: Place_encoded, Length: 148, dtype: int32\n"
     ]
    }
   ],
   "source": [
    "df['Company_encoded'] = label_encoder.fit_transform(df['Company'])\n",
    "df['Place_encoded'] = label_encoder.fit_transform(df['Place'])\n",
    "print(df['Company_encoded'])\n",
    "print(df['Place_encoded'])"
   ]
  },
  {
   "cell_type": "code",
   "execution_count": 188,
   "id": "61d5037f-8701-43ab-8b67-0d343bd76b09",
   "metadata": {},
   "outputs": [],
   "source": [
    "import pandas as pd\n",
    "import numpy as np\n",
    "import seaborn as sns\n",
    "import matplotlib.pyplot as plt\n",
    "from sklearn.preprocessing import StandardScaler,MinMaxScaler"
   ]
  },
  {
   "cell_type": "code",
   "execution_count": 206,
   "id": "1ef088ec-1002-4c00-8dfc-fe4044de51b5",
   "metadata": {},
   "outputs": [
    {
     "name": "stdout",
     "output_type": "stream",
     "text": [
      "          Age\n",
      "0   -1.012038\n",
      "1   -0.046778\n",
      "2    0.435852\n",
      "3    0.918482\n",
      "4   -0.722460\n",
      "..        ...\n",
      "143  0.242800\n",
      "144 -0.818986\n",
      "145  1.304587\n",
      "146  0.242800\n",
      "147 -0.818986\n",
      "\n",
      "[148 rows x 1 columns]\n"
     ]
    }
   ],
   "source": [
    "scaler_standard = StandardScaler()\n",
    "standard_scaled = scaler_standard.fit_transform(df[['Salary']])\n",
    "df_standard_scaled = pd.DataFrame(standard_scaled, columns=['Salary'])\n",
    "print(df_standard_scaled)"
   ]
  },
  {
   "cell_type": "code",
   "execution_count": 212,
   "id": "5ee9914e-4502-4709-b9c2-809af40f4777",
   "metadata": {},
   "outputs": [
    {
     "name": "stdout",
     "output_type": "stream",
     "text": [
      "       Salary\n",
      "0    0.445089\n",
      "1    0.445089\n",
      "2    0.137817\n",
      "3    0.217480\n",
      "4    0.331285\n",
      "..        ...\n",
      "143  0.903039\n",
      "144  0.876067\n",
      "145  0.335154\n",
      "146  0.448959\n",
      "147  0.809491\n",
      "\n",
      "[148 rows x 1 columns]\n"
     ]
    }
   ],
   "source": [
    "scaler_minmax = MinMaxScaler()\n",
    "minmax_scaled = scaler_minmax.fit_transform(df[['Salary']])\n",
    "df_minmax_scaled = pd.DataFrame(minmax_scaled, columns=['Salary'])\n",
    "print(df_minmax_scaled)\n"
   ]
  },
  {
   "cell_type": "code",
   "execution_count": null,
   "id": "36ced742-d840-417c-ae47-ea20e7929f62",
   "metadata": {},
   "outputs": [],
   "source": []
  }
 ],
 "metadata": {
  "kernelspec": {
   "display_name": "Python [conda env:base] *",
   "language": "python",
   "name": "conda-base-py"
  },
  "language_info": {
   "codemirror_mode": {
    "name": "ipython",
    "version": 3
   },
   "file_extension": ".py",
   "mimetype": "text/x-python",
   "name": "python",
   "nbconvert_exporter": "python",
   "pygments_lexer": "ipython3",
   "version": "3.12.7"
  }
 },
 "nbformat": 4,
 "nbformat_minor": 5
}
