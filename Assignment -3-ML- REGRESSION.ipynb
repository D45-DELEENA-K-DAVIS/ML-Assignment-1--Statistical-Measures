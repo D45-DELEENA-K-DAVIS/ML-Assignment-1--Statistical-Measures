{
 "cells": [
  {
   "cell_type": "code",
   "execution_count": 31,
   "id": "4d4135f0-298d-4ac2-906d-3b62a821d48a",
   "metadata": {},
   "outputs": [],
   "source": [
    "            # Loading and Preprocessing\n",
    "# Import necessary libraries\n",
    "from sklearn.datasets import fetch_california_housing\n",
    "import pandas as pd"
   ]
  },
  {
   "cell_type": "code",
   "execution_count": 33,
   "id": "a14c2c99-484d-4ecf-8412-8cc7393e067b",
   "metadata": {},
   "outputs": [],
   "source": [
    "# Load the California Housing dataset\n",
    "housing = fetch_california_housing()"
   ]
  },
  {
   "cell_type": "code",
   "execution_count": 35,
   "id": "1630ed4f-6421-4ccb-9d42-a5fdce72bb60",
   "metadata": {},
   "outputs": [],
   "source": [
    "# Convert to pandas DataFrame\n",
    "df = pd.DataFrame(housing.data, columns=housing.feature_names)\n",
    "df['MedHouseVal'] = housing.target\n"
   ]
  },
  {
   "cell_type": "code",
   "execution_count": 37,
   "id": "3628ca06-70c0-463c-bb4e-48298a132a5b",
   "metadata": {},
   "outputs": [
    {
     "name": "stdout",
     "output_type": "stream",
     "text": [
      "Dataset Info:\n",
      "<class 'pandas.core.frame.DataFrame'>\n",
      "RangeIndex: 20640 entries, 0 to 20639\n",
      "Data columns (total 9 columns):\n",
      " #   Column       Non-Null Count  Dtype  \n",
      "---  ------       --------------  -----  \n",
      " 0   MedInc       20640 non-null  float64\n",
      " 1   HouseAge     20640 non-null  float64\n",
      " 2   AveRooms     20640 non-null  float64\n",
      " 3   AveBedrms    20640 non-null  float64\n",
      " 4   Population   20640 non-null  float64\n",
      " 5   AveOccup     20640 non-null  float64\n",
      " 6   Latitude     20640 non-null  float64\n",
      " 7   Longitude    20640 non-null  float64\n",
      " 8   MedHouseVal  20640 non-null  float64\n",
      "dtypes: float64(9)\n",
      "memory usage: 1.4 MB\n",
      "None\n"
     ]
    }
   ],
   "source": [
    "print(\"Dataset Info:\")\n",
    "print(df.info())"
   ]
  },
  {
   "cell_type": "code",
   "execution_count": 39,
   "id": "873cfea6-b642-472c-b42c-6bb6dab0c4f4",
   "metadata": {},
   "outputs": [
    {
     "name": "stdout",
     "output_type": "stream",
     "text": [
      "MedInc         0\n",
      "HouseAge       0\n",
      "AveRooms       0\n",
      "AveBedrms      0\n",
      "Population     0\n",
      "AveOccup       0\n",
      "Latitude       0\n",
      "Longitude      0\n",
      "MedHouseVal    0\n",
      "dtype: int64\n"
     ]
    }
   ],
   "source": [
    "# missing values\n",
    "print(df.isnull().sum())\n"
   ]
  },
  {
   "cell_type": "code",
   "execution_count": 41,
   "id": "149ac24a-d599-4f4f-b3f0-8916ecc9cc97",
   "metadata": {},
   "outputs": [
    {
     "name": "stdout",
     "output_type": "stream",
     "text": [
      "             MedInc      HouseAge      AveRooms     AveBedrms    Population  \\\n",
      "count  20640.000000  20640.000000  20640.000000  20640.000000  20640.000000   \n",
      "mean       3.870671     28.639486      5.429000      1.096675   1425.476744   \n",
      "std        1.899822     12.585558      2.474173      0.473911   1132.462122   \n",
      "min        0.499900      1.000000      0.846154      0.333333      3.000000   \n",
      "25%        2.563400     18.000000      4.440716      1.006079    787.000000   \n",
      "50%        3.534800     29.000000      5.229129      1.048780   1166.000000   \n",
      "75%        4.743250     37.000000      6.052381      1.099526   1725.000000   \n",
      "max       15.000100     52.000000    141.909091     34.066667  35682.000000   \n",
      "\n",
      "           AveOccup      Latitude     Longitude   MedHouseVal  \n",
      "count  20640.000000  20640.000000  20640.000000  20640.000000  \n",
      "mean       3.070655     35.631861   -119.569704      2.068558  \n",
      "std       10.386050      2.135952      2.003532      1.153956  \n",
      "min        0.692308     32.540000   -124.350000      0.149990  \n",
      "25%        2.429741     33.930000   -121.800000      1.196000  \n",
      "50%        2.818116     34.260000   -118.490000      1.797000  \n",
      "75%        3.282261     37.710000   -118.010000      2.647250  \n",
      "max     1243.333333     41.950000   -114.310000      5.000010  \n"
     ]
    }
   ],
   "source": [
    "print(df.describe())"
   ]
  },
  {
   "cell_type": "code",
   "execution_count": 45,
   "id": "16c62e3b-a11b-4042-be57-2f9596bc81a9",
   "metadata": {},
   "outputs": [
    {
     "name": "stdout",
     "output_type": "stream",
     "text": [
      "     MedInc  HouseAge  AveRooms  AveBedrms  Population  AveOccup  Latitude  \\\n",
      "0  2.344766  0.982143  0.628559  -0.153758   -0.974429 -0.049597  1.052548   \n",
      "1  2.332238 -0.607019  0.327041  -0.263336    0.861439 -0.092512  1.043185   \n",
      "2  1.782699  1.856182  1.155620  -0.049016   -0.820777 -0.025843  1.038503   \n",
      "3  0.932968  1.856182  0.156966  -0.049833   -0.766028 -0.050329  1.038503   \n",
      "4 -0.012881  1.856182  0.344711  -0.032906   -0.759847 -0.085616  1.038503   \n",
      "\n",
      "   Longitude  \n",
      "0  -1.327835  \n",
      "1  -1.322844  \n",
      "2  -1.332827  \n",
      "3  -1.337818  \n",
      "4  -1.337818  \n"
     ]
    }
   ],
   "source": [
    "# Standardization\n",
    "from sklearn.preprocessing import StandardScaler\n",
    "\n",
    "\n",
    "X = df.drop(columns='MedHouseVal')\n",
    "y = df['MedHouseVal']\n",
    "\n",
    "\n",
    "scaler = StandardScaler()\n",
    "X_scaled = scaler.fit_transform(X)\n",
    "\n",
    "\n",
    "X_scaled_df = pd.DataFrame(X_scaled, columns=X.columns)\n",
    "\n",
    "\n",
    "print(X_scaled_df.head())\n"
   ]
  },
  {
   "cell_type": "code",
   "execution_count": null,
   "id": "91ab1b93-c548-4c8f-b632-2d0b83c0fdad",
   "metadata": {},
   "outputs": [],
   "source": [
    "#Preprocessing Steps and Justification\n",
    "# Loading the Dataset\n",
    "The California Housing dataset was loaded with fetch_california_housing from sklearn.\n",
    "It was converted to a pandas DataFrame, feature columns (MedInc, HouseAge, AveRooms, etc.) and a target column ['MedHouseVal'].\n",
    "It is easier to manipulate data using pandas functions by converting to DataFrame.\n",
    "# Dealing with Missing Values\n",
    "We conducted a missing value check throughout the DataFrame with df.isnull().sum().\n",
    "The data set had no missing values and therefore needed no imputation or deletion.\n",
    "Making sure that there are no missing values is essential because they can have a negative effect on the performance of regression models.\n",
    "# Feature Scaling (Standardization)\n",
    "We used standardization with StandardScaler on the feature columns (not the target variable: PRICE).\n",
    "Standardization makes every feature such that its distribution has a mean of 0 and a standard deviation of 1.\n",
    "This is crucial for regression models since it will stop features with higher scales from taking over the learning process, make sure that every feature \n",
    "contributes proportionally to the model, and enhance the convergence rate while optimizing.\n"
   ]
  },
  {
   "cell_type": "code",
   "execution_count": null,
   "id": "de7be529-15e2-4fc3-938f-b1772ac372fd",
   "metadata": {},
   "outputs": [],
   "source": [
    "            # Regression Algorithm Implementation\n",
    "# 1. Linear Regression\n",
    "  # How it works\n",
    "Linear Regression fits a straight line (or hyperplane in higher dimensions) to the data by minimizing the Mean Squared Error (MSE) between actual and predicted values.\n",
    "  # Why it's suitable:\n",
    "*Good for identifying linear relationships between features and the target.\n",
    "*Serves as a solid baseline model.\n"
   ]
  },
  {
   "cell_type": "code",
   "execution_count": null,
   "id": "311f2de1-51e1-426d-b161-2040196aef18",
   "metadata": {},
   "outputs": [],
   "source": [
    "# implementation\n",
    "from sklearn.linear_model import LinearRegression\n",
    "from sklearn.metrics import mean_squared_error, r2_score\n",
    "\n",
    "lr_model = LinearRegression()\n",
    "lr_model.fit(X_scaled_df, y)\n",
    "y_pred_lr = lr_model.predict(X_scaled_df)\n",
    "\n",
    "print(\"Linear Regression R²:\", r2_score(y, y_pred_lr))\n",
    "print(\"Linear Regression RMSE:\", mean_squared_error(y, y_pred_lr, squared=False))\n"
   ]
  },
  {
   "cell_type": "code",
   "execution_count": null,
   "id": "5514935d-1502-479f-bf56-97de375eb5f3",
   "metadata": {},
   "outputs": [],
   "source": [
    "# 2.Decision Tree Regressor\n",
    "  # How it works:\n",
    "Splits the dataset into smaller subsets based on feature thresholds. At each split, it chooses the feature and value that minimizes the error (usually MSE).\n",
    "  # Why it's suitable:\n",
    "*Captures non-linear relationships.\n",
    "*Interpretable and flexible.\n"
   ]
  },
  {
   "cell_type": "code",
   "execution_count": 54,
   "id": "aa673eaf-4535-4d21-9b33-89bfbbe7298d",
   "metadata": {},
   "outputs": [
    {
     "name": "stdout",
     "output_type": "stream",
     "text": [
      "Decision Tree R²: 1.0\n",
      "Decision Tree RMSE: 3.1022245701521287e-16\n"
     ]
    },
    {
     "name": "stderr",
     "output_type": "stream",
     "text": [
      "C:\\Users\\DEVIS\\anaconda3\\Lib\\site-packages\\sklearn\\metrics\\_regression.py:492: FutureWarning: 'squared' is deprecated in version 1.4 and will be removed in 1.6. To calculate the root mean squared error, use the function'root_mean_squared_error'.\n",
      "  warnings.warn(\n"
     ]
    }
   ],
   "source": [
    "# implementation\n",
    "from sklearn.tree import DecisionTreeRegressor\n",
    "\n",
    "dt_model = DecisionTreeRegressor(random_state=42)\n",
    "dt_model.fit(X_scaled_df, y)\n",
    "y_pred_dt = dt_model.predict(X_scaled_df)\n",
    "\n",
    "print(\"Decision Tree R²:\", r2_score(y, y_pred_dt))\n",
    "print(\"Decision Tree RMSE:\", mean_squared_error(y, y_pred_dt, squared=False))\n"
   ]
  },
  {
   "cell_type": "code",
   "execution_count": null,
   "id": "a5866503-775b-42c4-be8f-d7b6acb4bb28",
   "metadata": {},
   "outputs": [],
   "source": [
    "# 3.Random Forest Regressor\n",
    "  # How it works:\n",
    "An ensemble method that builds multiple decision trees on different random subsets of the data and averages their outputs for a final prediction.\n",
    "  # Why it's suitable:\n",
    "\n",
    "*Reduces overfitting compared to a single tree.\n",
    "*Handles high-dimensional, non-linear data well."
   ]
  },
  {
   "cell_type": "code",
   "execution_count": 53,
   "id": "447b0f6c-3aac-4636-a9ca-b30d8120d007",
   "metadata": {},
   "outputs": [
    {
     "name": "stdout",
     "output_type": "stream",
     "text": [
      "Random Forest R²: 0.9739390971989981\n",
      "Random Forest RMSE: 0.18628312576580003\n"
     ]
    },
    {
     "name": "stderr",
     "output_type": "stream",
     "text": [
      "C:\\Users\\DEVIS\\anaconda3\\Lib\\site-packages\\sklearn\\metrics\\_regression.py:492: FutureWarning: 'squared' is deprecated in version 1.4 and will be removed in 1.6. To calculate the root mean squared error, use the function'root_mean_squared_error'.\n",
      "  warnings.warn(\n"
     ]
    }
   ],
   "source": [
    "# implementation\n",
    "from sklearn.ensemble import RandomForestRegressor\n",
    "\n",
    "rf_model = RandomForestRegressor(n_estimators=100, random_state=42)\n",
    "rf_model.fit(X_scaled_df, y)\n",
    "y_pred_rf = rf_model.predict(X_scaled_df)\n",
    "\n",
    "print(\"Random Forest R²:\", r2_score(y, y_pred_rf))\n",
    "print(\"Random Forest RMSE:\", mean_squared_error(y, y_pred_rf, squared=False))"
   ]
  },
  {
   "cell_type": "code",
   "execution_count": null,
   "id": "c8a08fe2-e0a9-465d-a3ad-a12276f0978f",
   "metadata": {},
   "outputs": [],
   "source": [
    "# 4.Gradient Boosting Regressor\n",
    "  # How it works:\n",
    "Builds models sequentially, where each model tries to correct the errors of the previous one by minimizing a loss function (like MSE).\n",
    "  # Why it's suitable:\n",
    "*One of the most powerful and accurate models for tabular data.\n",
    "*Captures complex, non-linear relationships effectively."
   ]
  },
  {
   "cell_type": "code",
   "execution_count": 52,
   "id": "5ba5e9a4-3856-488e-93d3-ae441d0111b8",
   "metadata": {},
   "outputs": [
    {
     "name": "stdout",
     "output_type": "stream",
     "text": [
      "Gradient Boosting R²: 0.8033237500356992\n",
      "Gradient Boosting RMSE: 0.5117463430831034\n"
     ]
    },
    {
     "name": "stderr",
     "output_type": "stream",
     "text": [
      "C:\\Users\\DEVIS\\anaconda3\\Lib\\site-packages\\sklearn\\metrics\\_regression.py:492: FutureWarning: 'squared' is deprecated in version 1.4 and will be removed in 1.6. To calculate the root mean squared error, use the function'root_mean_squared_error'.\n",
      "  warnings.warn(\n"
     ]
    }
   ],
   "source": [
    "# implementataion\n",
    "from sklearn.ensemble import GradientBoostingRegressor\n",
    "\n",
    "gb_model = GradientBoostingRegressor(n_estimators=100, learning_rate=0.1, random_state=42)\n",
    "gb_model.fit(X_scaled_df, y)\n",
    "y_pred_gb = gb_model.predict(X_scaled_df)\n",
    "\n",
    "print(\"Gradient Boosting R²:\", r2_score(y, y_pred_gb))\n",
    "print(\"Gradient Boosting RMSE:\", mean_squared_error(y, y_pred_gb, squared=False))\n"
   ]
  },
  {
   "cell_type": "code",
   "execution_count": null,
   "id": "79de4caa-e066-4ad3-9ba1-1e68af4ab75f",
   "metadata": {},
   "outputs": [],
   "source": [
    "# 5.Support Vector Regressor (SVR)\n",
    "  # How it works:\n",
    "Fits the best possible hyperplane within a margin (epsilon) around the true values, using kernel tricks to model non-linear data.\n",
    "  # Why it's suitable:\n",
    "*Works well for moderate-sized datasets.\n",
    "*Effective when the relationship between features and target is not purely linear."
   ]
  },
  {
   "cell_type": "code",
   "execution_count": 51,
   "id": "556bfa20-fc30-4a9b-ba57-98485eaf78cd",
   "metadata": {},
   "outputs": [
    {
     "name": "stdout",
     "output_type": "stream",
     "text": [
      "SVR R²: 0.7502397399037277\n",
      "SVR RMSE: 0.5766873930299687\n"
     ]
    },
    {
     "name": "stderr",
     "output_type": "stream",
     "text": [
      "C:\\Users\\DEVIS\\anaconda3\\Lib\\site-packages\\sklearn\\metrics\\_regression.py:492: FutureWarning: 'squared' is deprecated in version 1.4 and will be removed in 1.6. To calculate the root mean squared error, use the function'root_mean_squared_error'.\n",
      "  warnings.warn(\n"
     ]
    }
   ],
   "source": [
    "# implementataion\n",
    "from sklearn.svm import SVR\n",
    "svr_model = SVR(kernel='rbf')  \n",
    "svr_model.fit(X_scaled_df, y)\n",
    "y_pred_svr = svr_model.predict(X_scaled_df)\n",
    "print(\"SVR R²:\", r2_score(y, y_pred_svr))\n",
    "print(\"SVR RMSE:\", mean_squared_error(y, y_pred_svr, squared=False))"
   ]
  },
  {
   "cell_type": "code",
   "execution_count": 66,
   "id": "60d78525-7ff7-4a19-ae6d-74f73b1f5b89",
   "metadata": {},
   "outputs": [],
   "source": [
    "            # Model Evaluation and Comparison\n",
    "from sklearn.model_selection import train_test_split\n",
    "X_train, X_test, y_train, y_test = train_test_split(X_scaled_df, y, test_size=0.2, random_state=42)\n"
   ]
  },
  {
   "cell_type": "code",
   "execution_count": 78,
   "id": "ec5c8868-c272-4b76-b4cb-13f5fee9da53",
   "metadata": {},
   "outputs": [
    {
     "name": "stdout",
     "output_type": "stream",
     "text": [
      " Linear Regression:\n",
      "MSE: 0.555891598695244\n",
      "MAE: 0.5332001304956565\n",
      "R²: 0.5757877060324511\n"
     ]
    }
   ],
   "source": [
    "from sklearn.linear_model import LinearRegression\n",
    "from sklearn.metrics import mean_squared_error, mean_absolute_error, r2_score\n",
    "lr_model = LinearRegression()\n",
    "lr_model.fit(X_train, y_train)\n",
    "y_pred_\n",
    "print(\" Linear Regression:\")\n",
    "print(\"MSE:\", mean_squared_error(y_test, y_pred_lr))\n",
    "print(\"MAE:\", mean_absolute_error(y_test, y_pred_lr))\n",
    "print(\"R²:\", r2_score(y_test, y_pred_lr))\n"
   ]
  },
  {
   "cell_type": "code",
   "execution_count": 80,
   "id": "4d561d7d-b654-4272-8de0-408cf001306f",
   "metadata": {},
   "outputs": [
    {
     "name": "stdout",
     "output_type": "stream",
     "text": [
      " Decision Tree Regressor:\n",
      "MSE: 0.5052210710022044\n",
      "MAE: 0.4562850557170543\n",
      "R²: 0.6144554262132605\n"
     ]
    }
   ],
   "source": [
    "from sklearn.tree import DecisionTreeRegressor\n",
    "dt_model = DecisionTreeRegressor(random_state=42)\n",
    "dt_model.fit(X_train, y_train)\n",
    "y_pred_dt = dt_model.predict(X_test)\n",
    "print(\" Decision Tree Regressor:\")\n",
    "print(\"MSE:\", mean_squared_error(y_test, y_pred_dt))\n",
    "print(\"MAE:\", mean_absolute_error(y_test, y_pred_dt))\n",
    "print(\"R²:\", r2_score(y_test, y_pred_dt))\n"
   ]
  },
  {
   "cell_type": "code",
   "execution_count": 82,
   "id": "6998e3d0-2c0e-41c7-a28a-fe28bd0787bb",
   "metadata": {},
   "outputs": [
    {
     "name": "stdout",
     "output_type": "stream",
     "text": [
      " Random Forest Regressor:\n",
      "MSE: 0.25621319799807024\n",
      "MAE: 0.3276279949127909\n",
      "R²: 0.8044784473760151\n"
     ]
    }
   ],
   "source": [
    "from sklearn.ensemble import RandomForestRegressor\n",
    "rf_model = RandomForestRegressor(n_estimators=100, random_state=42)\n",
    "rf_model.fit(X_train, y_train)\n",
    "y_pred_rf = rf_model.predict(X_test)\n",
    "print(\" Random Forest Regressor:\")\n",
    "print(\"MSE:\", mean_squared_error(y_test, y_pred_rf))\n",
    "print(\"MAE:\", mean_absolute_error(y_test, y_pred_rf))\n",
    "print(\"R²:\", r2_score(y_test, y_pred_rf))\n"
   ]
  },
  {
   "cell_type": "code",
   "execution_count": 84,
   "id": "efebf335-e5aa-4db6-89eb-3f74c9698879",
   "metadata": {},
   "outputs": [
    {
     "name": "stdout",
     "output_type": "stream",
     "text": [
      " Gradient Boosting Regressor:\n",
      "MSE: 0.29399901242474274\n",
      "MAE: 0.37165044848436773\n",
      "R²: 0.7756433164710084\n"
     ]
    }
   ],
   "source": [
    "from sklearn.ensemble import GradientBoostingRegressor\n",
    "gb_model = GradientBoostingRegressor(n_estimators=100, learning_rate=0.1, random_state=42)\n",
    "gb_model.fit(X_train, y_train)\n",
    "y_pred_gb = gb_model.predict(X_test)\n",
    "print(\" Gradient Boosting Regressor:\")\n",
    "print(\"MSE:\", mean_squared_error(y_test, y_pred_gb))\n",
    "print(\"MAE:\", mean_absolute_error(y_test, y_pred_gb))\n",
    "print(\"R²:\", r2_score(y_test, y_pred_gb))\n"
   ]
  },
  {
   "cell_type": "code",
   "execution_count": 86,
   "id": "6b3b0f4e-f51a-4803-876d-7c3c648cd22e",
   "metadata": {},
   "outputs": [
    {
     "name": "stdout",
     "output_type": "stream",
     "text": [
      " Support Vector Regressor:\n",
      "MSE: 0.35519846199894217\n",
      "MAE: 0.39776309634378626\n",
      "R²: 0.7289407597956459\n"
     ]
    }
   ],
   "source": [
    "from sklearn.svm import SVR\n",
    "svr_model = SVR(kernel='rbf')  \n",
    "svr_model.fit(X_train, y_train)\n",
    "y_pred_svr = svr_model.predict(X_test)\n",
    "print(\" Support Vector Regressor:\")\n",
    "print(\"MSE:\", mean_squared_error(y_test, y_pred_svr))\n",
    "print(\"MAE:\", mean_absolute_error(y_test, y_pred_svr))\n",
    "print(\"R²:\", r2_score(y_test, y_pred_svr))\n"
   ]
  },
  {
   "cell_type": "code",
   "execution_count": null,
   "id": "51d4c0dc-9746-441c-afd1-8bab20896188",
   "metadata": {},
   "outputs": [],
   "source": [
    "# comparision\n",
    "Best Model: Random Forest (R² = 0.8044784473760151)\n",
    "Worst Model: Linear Regression (R² = 0.5757877060324511)"
   ]
  }
 ],
 "metadata": {
  "kernelspec": {
   "display_name": "Python [conda env:base] *",
   "language": "python",
   "name": "conda-base-py"
  },
  "language_info": {
   "codemirror_mode": {
    "name": "ipython",
    "version": 3
   },
   "file_extension": ".py",
   "mimetype": "text/x-python",
   "name": "python",
   "nbconvert_exporter": "python",
   "pygments_lexer": "ipython3",
   "version": "3.12.7"
  }
 },
 "nbformat": 4,
 "nbformat_minor": 5
}
